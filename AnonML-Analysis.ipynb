{
 "cells": [
  {
   "cell_type": "code",
   "execution_count": 1,
   "id": "c4200781-69f5-49c0-a224-3635d22ee4a0",
   "metadata": {
    "scrolled": true
   },
   "outputs": [
    {
     "name": "stdout",
     "output_type": "stream",
     "text": [
      "Requirement already satisfied: catboost in /home/amirrezajahantab/anaconda3/lib/python3.12/site-packages (1.2.7)\n",
      "Requirement already satisfied: graphviz in /home/amirrezajahantab/anaconda3/lib/python3.12/site-packages (from catboost) (0.20.3)\n",
      "Requirement already satisfied: matplotlib in /home/amirrezajahantab/anaconda3/lib/python3.12/site-packages (from catboost) (3.9.2)\n",
      "Requirement already satisfied: numpy<2.0,>=1.16.0 in /home/amirrezajahantab/anaconda3/lib/python3.12/site-packages (from catboost) (1.26.4)\n",
      "Requirement already satisfied: pandas>=0.24 in /home/amirrezajahantab/anaconda3/lib/python3.12/site-packages (from catboost) (2.2.2)\n",
      "Requirement already satisfied: scipy in /home/amirrezajahantab/anaconda3/lib/python3.12/site-packages (from catboost) (1.13.1)\n",
      "Requirement already satisfied: plotly in /home/amirrezajahantab/anaconda3/lib/python3.12/site-packages (from catboost) (5.24.1)\n",
      "Requirement already satisfied: six in /home/amirrezajahantab/anaconda3/lib/python3.12/site-packages (from catboost) (1.16.0)\n",
      "Requirement already satisfied: python-dateutil>=2.8.2 in /home/amirrezajahantab/anaconda3/lib/python3.12/site-packages (from pandas>=0.24->catboost) (2.9.0.post0)\n",
      "Requirement already satisfied: pytz>=2020.1 in /home/amirrezajahantab/anaconda3/lib/python3.12/site-packages (from pandas>=0.24->catboost) (2024.1)\n",
      "Requirement already satisfied: tzdata>=2022.7 in /home/amirrezajahantab/anaconda3/lib/python3.12/site-packages (from pandas>=0.24->catboost) (2023.3)\n",
      "Requirement already satisfied: contourpy>=1.0.1 in /home/amirrezajahantab/anaconda3/lib/python3.12/site-packages (from matplotlib->catboost) (1.2.0)\n",
      "Requirement already satisfied: cycler>=0.10 in /home/amirrezajahantab/anaconda3/lib/python3.12/site-packages (from matplotlib->catboost) (0.11.0)\n",
      "Requirement already satisfied: fonttools>=4.22.0 in /home/amirrezajahantab/anaconda3/lib/python3.12/site-packages (from matplotlib->catboost) (4.51.0)\n",
      "Requirement already satisfied: kiwisolver>=1.3.1 in /home/amirrezajahantab/anaconda3/lib/python3.12/site-packages (from matplotlib->catboost) (1.4.4)\n",
      "Requirement already satisfied: packaging>=20.0 in /home/amirrezajahantab/anaconda3/lib/python3.12/site-packages (from matplotlib->catboost) (24.1)\n",
      "Requirement already satisfied: pillow>=8 in /home/amirrezajahantab/anaconda3/lib/python3.12/site-packages (from matplotlib->catboost) (10.4.0)\n",
      "Requirement already satisfied: pyparsing>=2.3.1 in /home/amirrezajahantab/anaconda3/lib/python3.12/site-packages (from matplotlib->catboost) (3.1.2)\n",
      "Requirement already satisfied: tenacity>=6.2.0 in /home/amirrezajahantab/anaconda3/lib/python3.12/site-packages (from plotly->catboost) (8.2.3)\n"
     ]
    }
   ],
   "source": [
    "!pip install catboost"
   ]
  },
  {
   "cell_type": "code",
   "execution_count": 2,
   "id": "faa058bd-0fc6-432a-a76b-55c7f6edb212",
   "metadata": {},
   "outputs": [],
   "source": [
    "import matplotlib.pyplot as plt\n",
    "import seaborn as sns\n",
    "import pandas as pd\n",
    "import numpy as np\n",
    "import re\n",
    "import warnings\n",
    "from catboost import CatBoostRegressor\n",
    "from sklearn.model_selection import train_test_split\n",
    "warnings.filterwarnings('ignore')"
   ]
  },
  {
   "cell_type": "code",
   "execution_count": 3,
   "id": "8221b1e2-75e6-4295-8bfc-c89c458697c6",
   "metadata": {},
   "outputs": [
    {
     "data": {
      "text/html": [
       "<div>\n",
       "<style scoped>\n",
       "    .dataframe tbody tr th:only-of-type {\n",
       "        vertical-align: middle;\n",
       "    }\n",
       "\n",
       "    .dataframe tbody tr th {\n",
       "        vertical-align: top;\n",
       "    }\n",
       "\n",
       "    .dataframe thead th {\n",
       "        text-align: right;\n",
       "    }\n",
       "</style>\n",
       "<table border=\"1\" class=\"dataframe\">\n",
       "  <thead>\n",
       "    <tr style=\"text-align: right;\">\n",
       "      <th></th>\n",
       "      <th>id</th>\n",
       "      <th>cat1</th>\n",
       "      <th>cat2</th>\n",
       "      <th>cat3</th>\n",
       "      <th>cat4</th>\n",
       "      <th>cat5</th>\n",
       "      <th>cat6</th>\n",
       "      <th>cat7</th>\n",
       "      <th>cat8</th>\n",
       "      <th>cat9</th>\n",
       "      <th>...</th>\n",
       "      <th>cont6</th>\n",
       "      <th>cont7</th>\n",
       "      <th>cont8</th>\n",
       "      <th>cont9</th>\n",
       "      <th>cont10</th>\n",
       "      <th>cont11</th>\n",
       "      <th>cont12</th>\n",
       "      <th>cont13</th>\n",
       "      <th>cont14</th>\n",
       "      <th>loss</th>\n",
       "    </tr>\n",
       "  </thead>\n",
       "  <tbody>\n",
       "    <tr>\n",
       "      <th>0</th>\n",
       "      <td>1</td>\n",
       "      <td>A</td>\n",
       "      <td>B</td>\n",
       "      <td>A</td>\n",
       "      <td>B</td>\n",
       "      <td>A</td>\n",
       "      <td>A</td>\n",
       "      <td>A</td>\n",
       "      <td>A</td>\n",
       "      <td>B</td>\n",
       "      <td>...</td>\n",
       "      <td>0.718367</td>\n",
       "      <td>0.335060</td>\n",
       "      <td>0.30260</td>\n",
       "      <td>0.67135</td>\n",
       "      <td>0.83510</td>\n",
       "      <td>0.569745</td>\n",
       "      <td>0.594646</td>\n",
       "      <td>0.822493</td>\n",
       "      <td>0.714843</td>\n",
       "      <td>2213.18</td>\n",
       "    </tr>\n",
       "    <tr>\n",
       "      <th>1</th>\n",
       "      <td>2</td>\n",
       "      <td>A</td>\n",
       "      <td>B</td>\n",
       "      <td>A</td>\n",
       "      <td>A</td>\n",
       "      <td>A</td>\n",
       "      <td>A</td>\n",
       "      <td>A</td>\n",
       "      <td>A</td>\n",
       "      <td>B</td>\n",
       "      <td>...</td>\n",
       "      <td>0.438917</td>\n",
       "      <td>0.436585</td>\n",
       "      <td>0.60087</td>\n",
       "      <td>0.35127</td>\n",
       "      <td>0.43919</td>\n",
       "      <td>0.338312</td>\n",
       "      <td>0.366307</td>\n",
       "      <td>0.611431</td>\n",
       "      <td>0.304496</td>\n",
       "      <td>1283.60</td>\n",
       "    </tr>\n",
       "    <tr>\n",
       "      <th>2</th>\n",
       "      <td>5</td>\n",
       "      <td>A</td>\n",
       "      <td>B</td>\n",
       "      <td>A</td>\n",
       "      <td>A</td>\n",
       "      <td>B</td>\n",
       "      <td>A</td>\n",
       "      <td>A</td>\n",
       "      <td>A</td>\n",
       "      <td>B</td>\n",
       "      <td>...</td>\n",
       "      <td>0.289648</td>\n",
       "      <td>0.315545</td>\n",
       "      <td>0.27320</td>\n",
       "      <td>0.26076</td>\n",
       "      <td>0.32446</td>\n",
       "      <td>0.381398</td>\n",
       "      <td>0.373424</td>\n",
       "      <td>0.195709</td>\n",
       "      <td>0.774425</td>\n",
       "      <td>3005.09</td>\n",
       "    </tr>\n",
       "    <tr>\n",
       "      <th>3</th>\n",
       "      <td>10</td>\n",
       "      <td>B</td>\n",
       "      <td>B</td>\n",
       "      <td>A</td>\n",
       "      <td>B</td>\n",
       "      <td>A</td>\n",
       "      <td>A</td>\n",
       "      <td>A</td>\n",
       "      <td>A</td>\n",
       "      <td>B</td>\n",
       "      <td>...</td>\n",
       "      <td>0.440945</td>\n",
       "      <td>0.391128</td>\n",
       "      <td>0.31796</td>\n",
       "      <td>0.32128</td>\n",
       "      <td>0.44467</td>\n",
       "      <td>0.327915</td>\n",
       "      <td>0.321570</td>\n",
       "      <td>0.605077</td>\n",
       "      <td>0.602642</td>\n",
       "      <td>939.85</td>\n",
       "    </tr>\n",
       "    <tr>\n",
       "      <th>4</th>\n",
       "      <td>11</td>\n",
       "      <td>A</td>\n",
       "      <td>B</td>\n",
       "      <td>A</td>\n",
       "      <td>B</td>\n",
       "      <td>A</td>\n",
       "      <td>A</td>\n",
       "      <td>A</td>\n",
       "      <td>A</td>\n",
       "      <td>B</td>\n",
       "      <td>...</td>\n",
       "      <td>0.178193</td>\n",
       "      <td>0.247408</td>\n",
       "      <td>0.24564</td>\n",
       "      <td>0.22089</td>\n",
       "      <td>0.21230</td>\n",
       "      <td>0.204687</td>\n",
       "      <td>0.202213</td>\n",
       "      <td>0.246011</td>\n",
       "      <td>0.432606</td>\n",
       "      <td>2763.85</td>\n",
       "    </tr>\n",
       "  </tbody>\n",
       "</table>\n",
       "<p>5 rows × 132 columns</p>\n",
       "</div>"
      ],
      "text/plain": [
       "   id cat1 cat2 cat3 cat4 cat5 cat6 cat7 cat8 cat9  ...     cont6     cont7  \\\n",
       "0   1    A    B    A    B    A    A    A    A    B  ...  0.718367  0.335060   \n",
       "1   2    A    B    A    A    A    A    A    A    B  ...  0.438917  0.436585   \n",
       "2   5    A    B    A    A    B    A    A    A    B  ...  0.289648  0.315545   \n",
       "3  10    B    B    A    B    A    A    A    A    B  ...  0.440945  0.391128   \n",
       "4  11    A    B    A    B    A    A    A    A    B  ...  0.178193  0.247408   \n",
       "\n",
       "     cont8    cont9   cont10    cont11    cont12    cont13    cont14     loss  \n",
       "0  0.30260  0.67135  0.83510  0.569745  0.594646  0.822493  0.714843  2213.18  \n",
       "1  0.60087  0.35127  0.43919  0.338312  0.366307  0.611431  0.304496  1283.60  \n",
       "2  0.27320  0.26076  0.32446  0.381398  0.373424  0.195709  0.774425  3005.09  \n",
       "3  0.31796  0.32128  0.44467  0.327915  0.321570  0.605077  0.602642   939.85  \n",
       "4  0.24564  0.22089  0.21230  0.204687  0.202213  0.246011  0.432606  2763.85  \n",
       "\n",
       "[5 rows x 132 columns]"
      ]
     },
     "execution_count": 3,
     "metadata": {},
     "output_type": "execute_result"
    }
   ],
   "source": [
    "# anonymize data\n",
    "# cat: categorical\n",
    "# cont: continuous\n",
    "data_train = pd.read_csv('data/train.csv')\n",
    "data_train.head()"
   ]
  },
  {
   "cell_type": "code",
   "execution_count": 4,
   "id": "61680a6c-c741-4439-b6cf-99ef8c7cb84e",
   "metadata": {},
   "outputs": [
    {
     "data": {
      "text/plain": [
       "(188318, 132)"
      ]
     },
     "execution_count": 4,
     "metadata": {},
     "output_type": "execute_result"
    }
   ],
   "source": [
    "data_train.shape"
   ]
  },
  {
   "cell_type": "code",
   "execution_count": 5,
   "id": "7cd0cd7e-85d6-4529-8f69-9d3338e6d030",
   "metadata": {},
   "outputs": [
    {
     "data": {
      "text/plain": [
       "0"
      ]
     },
     "execution_count": 5,
     "metadata": {},
     "output_type": "execute_result"
    }
   ],
   "source": [
    "data_train.isnull().sum().sum()"
   ]
  },
  {
   "cell_type": "code",
   "execution_count": 6,
   "id": "1f5a844d-b63e-4b1f-832c-e10eee0635c9",
   "metadata": {},
   "outputs": [
    {
     "data": {
      "text/html": [
       "<div>\n",
       "<style scoped>\n",
       "    .dataframe tbody tr th:only-of-type {\n",
       "        vertical-align: middle;\n",
       "    }\n",
       "\n",
       "    .dataframe tbody tr th {\n",
       "        vertical-align: top;\n",
       "    }\n",
       "\n",
       "    .dataframe thead th {\n",
       "        text-align: right;\n",
       "    }\n",
       "</style>\n",
       "<table border=\"1\" class=\"dataframe\">\n",
       "  <thead>\n",
       "    <tr style=\"text-align: right;\">\n",
       "      <th></th>\n",
       "      <th>id</th>\n",
       "      <th>cont1</th>\n",
       "      <th>cont2</th>\n",
       "      <th>cont3</th>\n",
       "      <th>cont4</th>\n",
       "      <th>cont5</th>\n",
       "      <th>cont6</th>\n",
       "      <th>cont7</th>\n",
       "      <th>cont8</th>\n",
       "      <th>cont9</th>\n",
       "      <th>cont10</th>\n",
       "      <th>cont11</th>\n",
       "      <th>cont12</th>\n",
       "      <th>cont13</th>\n",
       "      <th>cont14</th>\n",
       "      <th>loss</th>\n",
       "    </tr>\n",
       "  </thead>\n",
       "  <tbody>\n",
       "    <tr>\n",
       "      <th>count</th>\n",
       "      <td>188318.000000</td>\n",
       "      <td>188318.000000</td>\n",
       "      <td>188318.000000</td>\n",
       "      <td>188318.000000</td>\n",
       "      <td>188318.000000</td>\n",
       "      <td>188318.000000</td>\n",
       "      <td>188318.000000</td>\n",
       "      <td>188318.000000</td>\n",
       "      <td>188318.000000</td>\n",
       "      <td>188318.000000</td>\n",
       "      <td>188318.000000</td>\n",
       "      <td>188318.000000</td>\n",
       "      <td>188318.000000</td>\n",
       "      <td>188318.000000</td>\n",
       "      <td>188318.000000</td>\n",
       "      <td>188318.000000</td>\n",
       "    </tr>\n",
       "    <tr>\n",
       "      <th>mean</th>\n",
       "      <td>294135.982561</td>\n",
       "      <td>0.493861</td>\n",
       "      <td>0.507188</td>\n",
       "      <td>0.498918</td>\n",
       "      <td>0.491812</td>\n",
       "      <td>0.487428</td>\n",
       "      <td>0.490945</td>\n",
       "      <td>0.484970</td>\n",
       "      <td>0.486437</td>\n",
       "      <td>0.485506</td>\n",
       "      <td>0.498066</td>\n",
       "      <td>0.493511</td>\n",
       "      <td>0.493150</td>\n",
       "      <td>0.493138</td>\n",
       "      <td>0.495717</td>\n",
       "      <td>3037.337686</td>\n",
       "    </tr>\n",
       "    <tr>\n",
       "      <th>std</th>\n",
       "      <td>169336.084867</td>\n",
       "      <td>0.187640</td>\n",
       "      <td>0.207202</td>\n",
       "      <td>0.202105</td>\n",
       "      <td>0.211292</td>\n",
       "      <td>0.209027</td>\n",
       "      <td>0.205273</td>\n",
       "      <td>0.178450</td>\n",
       "      <td>0.199370</td>\n",
       "      <td>0.181660</td>\n",
       "      <td>0.185877</td>\n",
       "      <td>0.209737</td>\n",
       "      <td>0.209427</td>\n",
       "      <td>0.212777</td>\n",
       "      <td>0.222488</td>\n",
       "      <td>2904.086186</td>\n",
       "    </tr>\n",
       "    <tr>\n",
       "      <th>min</th>\n",
       "      <td>1.000000</td>\n",
       "      <td>0.000016</td>\n",
       "      <td>0.001149</td>\n",
       "      <td>0.002634</td>\n",
       "      <td>0.176921</td>\n",
       "      <td>0.281143</td>\n",
       "      <td>0.012683</td>\n",
       "      <td>0.069503</td>\n",
       "      <td>0.236880</td>\n",
       "      <td>0.000080</td>\n",
       "      <td>0.000000</td>\n",
       "      <td>0.035321</td>\n",
       "      <td>0.036232</td>\n",
       "      <td>0.000228</td>\n",
       "      <td>0.179722</td>\n",
       "      <td>0.670000</td>\n",
       "    </tr>\n",
       "    <tr>\n",
       "      <th>25%</th>\n",
       "      <td>147748.250000</td>\n",
       "      <td>0.346090</td>\n",
       "      <td>0.358319</td>\n",
       "      <td>0.336963</td>\n",
       "      <td>0.327354</td>\n",
       "      <td>0.281143</td>\n",
       "      <td>0.336105</td>\n",
       "      <td>0.350175</td>\n",
       "      <td>0.312800</td>\n",
       "      <td>0.358970</td>\n",
       "      <td>0.364580</td>\n",
       "      <td>0.310961</td>\n",
       "      <td>0.311661</td>\n",
       "      <td>0.315758</td>\n",
       "      <td>0.294610</td>\n",
       "      <td>1204.460000</td>\n",
       "    </tr>\n",
       "    <tr>\n",
       "      <th>50%</th>\n",
       "      <td>294539.500000</td>\n",
       "      <td>0.475784</td>\n",
       "      <td>0.555782</td>\n",
       "      <td>0.527991</td>\n",
       "      <td>0.452887</td>\n",
       "      <td>0.422268</td>\n",
       "      <td>0.440945</td>\n",
       "      <td>0.438285</td>\n",
       "      <td>0.441060</td>\n",
       "      <td>0.441450</td>\n",
       "      <td>0.461190</td>\n",
       "      <td>0.457203</td>\n",
       "      <td>0.462286</td>\n",
       "      <td>0.363547</td>\n",
       "      <td>0.407403</td>\n",
       "      <td>2115.570000</td>\n",
       "    </tr>\n",
       "    <tr>\n",
       "      <th>75%</th>\n",
       "      <td>440680.500000</td>\n",
       "      <td>0.623912</td>\n",
       "      <td>0.681761</td>\n",
       "      <td>0.634224</td>\n",
       "      <td>0.652072</td>\n",
       "      <td>0.643315</td>\n",
       "      <td>0.655021</td>\n",
       "      <td>0.591045</td>\n",
       "      <td>0.623580</td>\n",
       "      <td>0.566820</td>\n",
       "      <td>0.614590</td>\n",
       "      <td>0.678924</td>\n",
       "      <td>0.675759</td>\n",
       "      <td>0.689974</td>\n",
       "      <td>0.724623</td>\n",
       "      <td>3864.045000</td>\n",
       "    </tr>\n",
       "    <tr>\n",
       "      <th>max</th>\n",
       "      <td>587633.000000</td>\n",
       "      <td>0.984975</td>\n",
       "      <td>0.862654</td>\n",
       "      <td>0.944251</td>\n",
       "      <td>0.954297</td>\n",
       "      <td>0.983674</td>\n",
       "      <td>0.997162</td>\n",
       "      <td>1.000000</td>\n",
       "      <td>0.980200</td>\n",
       "      <td>0.995400</td>\n",
       "      <td>0.994980</td>\n",
       "      <td>0.998742</td>\n",
       "      <td>0.998484</td>\n",
       "      <td>0.988494</td>\n",
       "      <td>0.844848</td>\n",
       "      <td>121012.250000</td>\n",
       "    </tr>\n",
       "  </tbody>\n",
       "</table>\n",
       "</div>"
      ],
      "text/plain": [
       "                  id          cont1          cont2          cont3  \\\n",
       "count  188318.000000  188318.000000  188318.000000  188318.000000   \n",
       "mean   294135.982561       0.493861       0.507188       0.498918   \n",
       "std    169336.084867       0.187640       0.207202       0.202105   \n",
       "min         1.000000       0.000016       0.001149       0.002634   \n",
       "25%    147748.250000       0.346090       0.358319       0.336963   \n",
       "50%    294539.500000       0.475784       0.555782       0.527991   \n",
       "75%    440680.500000       0.623912       0.681761       0.634224   \n",
       "max    587633.000000       0.984975       0.862654       0.944251   \n",
       "\n",
       "               cont4          cont5          cont6          cont7  \\\n",
       "count  188318.000000  188318.000000  188318.000000  188318.000000   \n",
       "mean        0.491812       0.487428       0.490945       0.484970   \n",
       "std         0.211292       0.209027       0.205273       0.178450   \n",
       "min         0.176921       0.281143       0.012683       0.069503   \n",
       "25%         0.327354       0.281143       0.336105       0.350175   \n",
       "50%         0.452887       0.422268       0.440945       0.438285   \n",
       "75%         0.652072       0.643315       0.655021       0.591045   \n",
       "max         0.954297       0.983674       0.997162       1.000000   \n",
       "\n",
       "               cont8          cont9         cont10         cont11  \\\n",
       "count  188318.000000  188318.000000  188318.000000  188318.000000   \n",
       "mean        0.486437       0.485506       0.498066       0.493511   \n",
       "std         0.199370       0.181660       0.185877       0.209737   \n",
       "min         0.236880       0.000080       0.000000       0.035321   \n",
       "25%         0.312800       0.358970       0.364580       0.310961   \n",
       "50%         0.441060       0.441450       0.461190       0.457203   \n",
       "75%         0.623580       0.566820       0.614590       0.678924   \n",
       "max         0.980200       0.995400       0.994980       0.998742   \n",
       "\n",
       "              cont12         cont13         cont14           loss  \n",
       "count  188318.000000  188318.000000  188318.000000  188318.000000  \n",
       "mean        0.493150       0.493138       0.495717    3037.337686  \n",
       "std         0.209427       0.212777       0.222488    2904.086186  \n",
       "min         0.036232       0.000228       0.179722       0.670000  \n",
       "25%         0.311661       0.315758       0.294610    1204.460000  \n",
       "50%         0.462286       0.363547       0.407403    2115.570000  \n",
       "75%         0.675759       0.689974       0.724623    3864.045000  \n",
       "max         0.998484       0.988494       0.844848  121012.250000  "
      ]
     },
     "execution_count": 6,
     "metadata": {},
     "output_type": "execute_result"
    }
   ],
   "source": [
    "data_train.describe()"
   ]
  },
  {
   "cell_type": "code",
   "execution_count": 7,
   "id": "e316d45b-80df-4890-b5b5-d03ac541386f",
   "metadata": {},
   "outputs": [
    {
     "name": "stdout",
     "output_type": "stream",
     "text": [
      "<class 'pandas.core.frame.DataFrame'>\n",
      "RangeIndex: 188318 entries, 0 to 188317\n",
      "Columns: 132 entries, id to loss\n",
      "dtypes: float64(15), int64(1), object(116)\n",
      "memory usage: 189.7+ MB\n"
     ]
    }
   ],
   "source": [
    "data_train.info()"
   ]
  },
  {
   "cell_type": "code",
   "execution_count": 8,
   "id": "e4ff1b15-c7a3-4bcf-ae58-e705d388cab6",
   "metadata": {},
   "outputs": [
    {
     "data": {
      "text/plain": [
       "(['cat1', 'cat2', 'cat3', 'cat4', 'cat5'],\n",
       " ['cont1', 'cont2', 'cont3', 'cont4', 'cont5'])"
      ]
     },
     "execution_count": 8,
     "metadata": {},
     "output_type": "execute_result"
    }
   ],
   "source": [
    "cat_pattern = re.compile(\"^cat([1-9]|[1-9][0-9]|[1-9][0-9][0-9])$\")\n",
    "cont_pattern = re.compile(\"^cont([1-9]|[1-9][0-9]|[1-9][0-9][0-9])$\")\n",
    "cat_col = [cat for cat in data_train.columns if cat_pattern.match(cat)]\n",
    "cont_col = [cont for cont in data_train.columns if cont_pattern.match(cont)]\n",
    "cat_col[:5], cont_col[:5]"
   ]
  },
  {
   "cell_type": "code",
   "execution_count": 9,
   "id": "8490a764-aae4-46d2-aa97-a34896061a8a",
   "metadata": {},
   "outputs": [
    {
     "data": {
      "text/plain": [
       "array([ 0,  1,  2,  3,  4,  5,  6,  7,  8,  9, 10, 11, 12, 13])"
      ]
     },
     "execution_count": 9,
     "metadata": {},
     "output_type": "execute_result"
    }
   ],
   "source": [
    "cat_index = np.array([i for i in range(0, len(cat_col))])\n",
    "cont_index = np.array([i for i in range(0, len(cont_col))])\n",
    "cont_index"
   ]
  },
  {
   "cell_type": "code",
   "execution_count": 10,
   "id": "181565cb-65da-4c13-8c8e-0cde42f6c747",
   "metadata": {},
   "outputs": [
    {
     "data": {
      "text/plain": [
       "<Axes: xlabel='loss', ylabel='Density'>"
      ]
     },
     "execution_count": 10,
     "metadata": {},
     "output_type": "execute_result"
    },
    {
     "data": {
      "image/png": "[encoded data removed]",
      "text/plain": [
       "<Figure size 640x480 with 1 Axes>"
      ]
     },
     "metadata": {},
     "output_type": "display_data"
    }
   ],
   "source": [
    "sns.distplot(data_train['loss'])"
   ]
  },
  {
   "cell_type": "code",
   "execution_count": 11,
   "id": "3f9e7808-4ca4-46f9-b699-6bab630bb807",
   "metadata": {},
   "outputs": [
    {
     "data": {
      "text/plain": [
       "<Axes: xlabel='loss', ylabel='Density'>"
      ]
     },
     "execution_count": 11,
     "metadata": {},
     "output_type": "execute_result"
    },
    {
     "data": {
      "image/png": "[encoded data removed]",
      "text/plain": [
       "<Figure size 640x480 with 1 Axes>"
      ]
     },
     "metadata": {},
     "output_type": "display_data"
    }
   ],
   "source": [
    "sns.distplot(np.log(data_train['loss']))"
   ]
  },
  {
   "cell_type": "code",
   "execution_count": 12,
   "id": "21f0afdf-8404-41cd-b82b-7957a0f8e834",
   "metadata": {},
   "outputs": [],
   "source": [
    "model = CatBoostRegressor(iterations=150,\n",
    "                          learning_rate=0.01,\n",
    "                          depth=10,\n",
    "                          eval_metric='MAE',\n",
    "                          verbose=5,\n",
    "                          snapshot_file='log',\n",
    "                          snapshot_interval=10, \n",
    "                         )"
   ]
  },
  {
   "cell_type": "code",
   "execution_count": 13,
   "id": "8fd82cb0-dbe8-43e9-aed5-62ba94856108",
   "metadata": {},
   "outputs": [],
   "source": [
    "X = data_train.drop(['id', 'loss'], axis=1)\n",
    "y = np.log(data_train['loss'])\n",
    "X_train, X_test, y_train, y_test = train_test_split(X, y)\n",
    "del X\n",
    "del y\n",
    "del data_train"
   ]
  },
  {
   "cell_type": "code",
   "execution_count": 14,
   "id": "2d806b3f-0dd8-4be9-b143-62bb4220fd20",
   "metadata": {},
   "outputs": [
    {
     "name": "stdout",
     "output_type": "stream",
     "text": [
      "0:\tlearn: 0.6581072\ttest: 0.6546054\tbest: 0.6546054 (0)\ttotal: 302ms\tremaining: 45.1s\n",
      "5:\tlearn: 0.6452309\ttest: 0.6418901\tbest: 0.6418901 (5)\ttotal: 1.3s\tremaining: 31.2s\n",
      "10:\tlearn: 0.6331706\ttest: 0.6299788\tbest: 0.6299788 (10)\ttotal: 2.2s\tremaining: 27.8s\n",
      "15:\tlearn: 0.6215449\ttest: 0.6185032\tbest: 0.6185032 (15)\ttotal: 3.1s\tremaining: 25.9s\n",
      "20:\tlearn: 0.6105965\ttest: 0.6076521\tbest: 0.6076521 (20)\ttotal: 4.03s\tremaining: 24.7s\n",
      "25:\tlearn: 0.6005673\ttest: 0.5977816\tbest: 0.5977816 (25)\ttotal: 5.14s\tremaining: 24.5s\n",
      "30:\tlearn: 0.5912517\ttest: 0.5886028\tbest: 0.5886028 (30)\ttotal: 6.21s\tremaining: 23.8s\n",
      "35:\tlearn: 0.5825124\ttest: 0.5800203\tbest: 0.5800203 (35)\ttotal: 7.11s\tremaining: 22.5s\n",
      "40:\tlearn: 0.5743238\ttest: 0.5719623\tbest: 0.5719623 (40)\ttotal: 8.03s\tremaining: 21.4s\n",
      "45:\tlearn: 0.5665533\ttest: 0.5643255\tbest: 0.5643255 (45)\ttotal: 8.93s\tremaining: 20.2s\n",
      "50:\tlearn: 0.5591991\ttest: 0.5571394\tbest: 0.5571394 (50)\ttotal: 9.84s\tremaining: 19.1s\n",
      "55:\tlearn: 0.5523347\ttest: 0.5504255\tbest: 0.5504255 (55)\ttotal: 10.8s\tremaining: 18.1s\n",
      "60:\tlearn: 0.5459075\ttest: 0.5441525\tbest: 0.5441525 (60)\ttotal: 11.7s\tremaining: 17s\n",
      "65:\tlearn: 0.5398401\ttest: 0.5382617\tbest: 0.5382617 (65)\ttotal: 12.5s\tremaining: 16s\n",
      "70:\tlearn: 0.5342171\ttest: 0.5328000\tbest: 0.5328000 (70)\ttotal: 13.5s\tremaining: 15s\n",
      "75:\tlearn: 0.5289753\ttest: 0.5277036\tbest: 0.5277036 (75)\ttotal: 14.4s\tremaining: 14s\n",
      "80:\tlearn: 0.5238842\ttest: 0.5227043\tbest: 0.5227043 (80)\ttotal: 15.3s\tremaining: 13s\n",
      "85:\tlearn: 0.5189729\ttest: 0.5179069\tbest: 0.5179069 (85)\ttotal: 16.2s\tremaining: 12s\n",
      "90:\tlearn: 0.5143328\ttest: 0.5133272\tbest: 0.5133272 (90)\ttotal: 17.1s\tremaining: 11.1s\n",
      "95:\tlearn: 0.5098742\ttest: 0.5089272\tbest: 0.5089272 (95)\ttotal: 18s\tremaining: 10.1s\n",
      "100:\tlearn: 0.5057961\ttest: 0.5049244\tbest: 0.5049244 (100)\ttotal: 18.9s\tremaining: 9.16s\n",
      "105:\tlearn: 0.5020132\ttest: 0.5011709\tbest: 0.5011709 (105)\ttotal: 19.8s\tremaining: 8.22s\n",
      "110:\tlearn: 0.4984727\ttest: 0.4976887\tbest: 0.4976887 (110)\ttotal: 20.7s\tremaining: 7.27s\n",
      "115:\tlearn: 0.4951360\ttest: 0.4943925\tbest: 0.4943925 (115)\ttotal: 21.6s\tremaining: 6.34s\n",
      "120:\tlearn: 0.4919912\ttest: 0.4912963\tbest: 0.4912963 (120)\ttotal: 22.6s\tremaining: 5.41s\n",
      "125:\tlearn: 0.4889614\ttest: 0.4882878\tbest: 0.4882878 (125)\ttotal: 23.6s\tremaining: 4.5s\n",
      "130:\tlearn: 0.4860476\ttest: 0.4854194\tbest: 0.4854194 (130)\ttotal: 24.9s\tremaining: 3.62s\n",
      "135:\tlearn: 0.4833054\ttest: 0.4827401\tbest: 0.4827401 (135)\ttotal: 25.9s\tremaining: 2.66s\n",
      "140:\tlearn: 0.4806462\ttest: 0.4801204\tbest: 0.4801204 (140)\ttotal: 26.8s\tremaining: 1.71s\n",
      "145:\tlearn: 0.4781749\ttest: 0.4776835\tbest: 0.4776835 (145)\ttotal: 27.7s\tremaining: 758ms\n",
      "149:\tlearn: 0.4763651\ttest: 0.4758798\tbest: 0.4758798 (149)\ttotal: 28.4s\tremaining: 0us\n",
      "\n",
      "bestTest = 0.475879835\n",
      "bestIteration = 149\n",
      "\n"
     ]
    },
    {
     "data": {
      "text/plain": [
       "<catboost.core.CatBoostRegressor at 0x7c9fa59c4b60>"
      ]
     },
     "execution_count": 14,
     "metadata": {},
     "output_type": "execute_result"
    }
   ],
   "source": [
    "model.fit(X_train, y_train, cat_features=cat_col, eval_set=(X_test, y_test))"
   ]
  },
  {
   "cell_type": "code",
   "execution_count": 15,
   "id": "53d3d051-0611-4791-a348-0bc365cdbc0b",
   "metadata": {},
   "outputs": [
    {
     "data": {
      "text/plain": [
       "1.6094296072294367"
      ]
     },
     "execution_count": 15,
     "metadata": {},
     "output_type": "execute_result"
    }
   ],
   "source": [
    "np.exp(0.475879835)"
   ]
  },
  {
   "cell_type": "code",
   "execution_count": 20,
   "id": "dfb909e9-bb00-4f9b-b0d6-e49ef0249121",
   "metadata": {},
   "outputs": [
    {
     "data": {
      "text/plain": [
       "7.684105716123294"
      ]
     },
     "execution_count": 20,
     "metadata": {},
     "output_type": "execute_result"
    }
   ],
   "source": [
    "np.mean(y_train)"
   ]
  },
  {
   "cell_type": "code",
   "execution_count": 21,
   "id": "43ef500f-7271-4f51-8d3c-c410d5a5690e",
   "metadata": {},
   "outputs": [
    {
     "data": {
      "text/plain": [
       "0.8131850286980582"
      ]
     },
     "execution_count": 21,
     "metadata": {},
     "output_type": "execute_result"
    }
   ],
   "source": [
    "np.std(y_train)"
   ]
  },
  {
   "cell_type": "code",
   "execution_count": null,
   "id": "7f34760a-b27f-4e6d-9969-931381294c4d",
   "metadata": {},
   "outputs": [],
   "source": []
  }
 ],
 "metadata": {
  "kernelspec": {
   "display_name": "Python 3 (ipykernel)",
   "language": "python",
   "name": "python3"
  },
  "language_info": {
   "codemirror_mode": {
    "name": "ipython",
    "version": 3
   },
   "file_extension": ".py",
   "mimetype": "text/x-python",
   "name": "python",
   "nbconvert_exporter": "python",
   "pygments_lexer": "ipython3",
   "version": "3.12.7"
  }
 },
 "nbformat": 4,
 "nbformat_minor": 5
}
